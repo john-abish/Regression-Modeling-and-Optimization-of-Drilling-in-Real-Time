{
 "cells": [
  {
   "cell_type": "code",
   "execution_count": 1,
   "metadata": {},
   "outputs": [],
   "source": [
    "import pandas as pd\n",
    "import numpy as np\n",
    "import matplotlib.pyplot as ply\n",
    "import seaborn as sns\n",
    "import matplotlib.pyplot as plt"
   ]
  },
  {
   "cell_type": "code",
   "execution_count": 2,
   "metadata": {},
   "outputs": [],
   "source": [
    "%matplotlib inline"
   ]
  },
  {
   "cell_type": "code",
   "execution_count": 3,
   "metadata": {},
   "outputs": [],
   "source": [
    "df  = pd.read_csv('Temp Test.csv')"
   ]
  },
  {
   "cell_type": "code",
   "execution_count": 4,
   "metadata": {},
   "outputs": [
    {
     "data": {
      "text/html": [
       "<div>\n",
       "<style scoped>\n",
       "    .dataframe tbody tr th:only-of-type {\n",
       "        vertical-align: middle;\n",
       "    }\n",
       "\n",
       "    .dataframe tbody tr th {\n",
       "        vertical-align: top;\n",
       "    }\n",
       "\n",
       "    .dataframe thead th {\n",
       "        text-align: right;\n",
       "    }\n",
       "</style>\n",
       "<table border=\"1\" class=\"dataframe\">\n",
       "  <thead>\n",
       "    <tr style=\"text-align: right;\">\n",
       "      <th></th>\n",
       "      <th>Depth,ft</th>\n",
       "      <th>ROP,ft/h</th>\n",
       "      <th>WOB,lbs</th>\n",
       "      <th>RPM,rpm</th>\n",
       "      <th>Q,gpm</th>\n",
       "    </tr>\n",
       "  </thead>\n",
       "  <tbody>\n",
       "    <tr>\n",
       "      <th>0</th>\n",
       "      <td>5342.28825</td>\n",
       "      <td>55.612953</td>\n",
       "      <td>11420.17682</td>\n",
       "      <td>130</td>\n",
       "      <td>1176.676411</td>\n",
       "    </tr>\n",
       "    <tr>\n",
       "      <th>1</th>\n",
       "      <td>5342.28825</td>\n",
       "      <td>55.612953</td>\n",
       "      <td>11307.77397</td>\n",
       "      <td>129</td>\n",
       "      <td>1176.480840</td>\n",
       "    </tr>\n",
       "    <tr>\n",
       "      <th>2</th>\n",
       "      <td>5342.28825</td>\n",
       "      <td>55.612953</td>\n",
       "      <td>11734.90559</td>\n",
       "      <td>128</td>\n",
       "      <td>1176.676411</td>\n",
       "    </tr>\n",
       "    <tr>\n",
       "      <th>3</th>\n",
       "      <td>5342.28825</td>\n",
       "      <td>55.612953</td>\n",
       "      <td>12184.51997</td>\n",
       "      <td>129</td>\n",
       "      <td>1176.713306</td>\n",
       "    </tr>\n",
       "    <tr>\n",
       "      <th>4</th>\n",
       "      <td>5342.28825</td>\n",
       "      <td>55.612953</td>\n",
       "      <td>11689.94505</td>\n",
       "      <td>130</td>\n",
       "      <td>1176.636678</td>\n",
       "    </tr>\n",
       "  </tbody>\n",
       "</table>\n",
       "</div>"
      ],
      "text/plain": [
       "     Depth,ft   ROP,ft/h      WOB,lbs  RPM,rpm        Q,gpm\n",
       "0  5342.28825  55.612953  11420.17682      130  1176.676411\n",
       "1  5342.28825  55.612953  11307.77397      129  1176.480840\n",
       "2  5342.28825  55.612953  11734.90559      128  1176.676411\n",
       "3  5342.28825  55.612953  12184.51997      129  1176.713306\n",
       "4  5342.28825  55.612953  11689.94505      130  1176.636678"
      ]
     },
     "execution_count": 4,
     "metadata": {},
     "output_type": "execute_result"
    }
   ],
   "source": [
    "df.head()"
   ]
  },
  {
   "cell_type": "code",
   "execution_count": 5,
   "metadata": {},
   "outputs": [
    {
     "name": "stdout",
     "output_type": "stream",
     "text": [
      "<class 'pandas.core.frame.DataFrame'>\n",
      "RangeIndex: 14060 entries, 0 to 14059\n",
      "Data columns (total 5 columns):\n",
      "Depth,ft    14060 non-null float64\n",
      "ROP,ft/h    14060 non-null float64\n",
      "WOB,lbs     14060 non-null float64\n",
      "RPM,rpm     14060 non-null int64\n",
      "Q,gpm       14060 non-null float64\n",
      "dtypes: float64(4), int64(1)\n",
      "memory usage: 549.3 KB\n"
     ]
    }
   ],
   "source": [
    "df.info()"
   ]
  },
  {
   "cell_type": "code",
   "execution_count": 6,
   "metadata": {
    "scrolled": true
   },
   "outputs": [
    {
     "data": {
      "text/html": [
       "<div>\n",
       "<style scoped>\n",
       "    .dataframe tbody tr th:only-of-type {\n",
       "        vertical-align: middle;\n",
       "    }\n",
       "\n",
       "    .dataframe tbody tr th {\n",
       "        vertical-align: top;\n",
       "    }\n",
       "\n",
       "    .dataframe thead th {\n",
       "        text-align: right;\n",
       "    }\n",
       "</style>\n",
       "<table border=\"1\" class=\"dataframe\">\n",
       "  <thead>\n",
       "    <tr style=\"text-align: right;\">\n",
       "      <th></th>\n",
       "      <th>Depth,ft</th>\n",
       "      <th>ROP,ft/h</th>\n",
       "      <th>WOB,lbs</th>\n",
       "      <th>RPM,rpm</th>\n",
       "      <th>Q,gpm</th>\n",
       "    </tr>\n",
       "  </thead>\n",
       "  <tbody>\n",
       "    <tr>\n",
       "      <th>count</th>\n",
       "      <td>14060.000000</td>\n",
       "      <td>14060.000000</td>\n",
       "      <td>14060.000000</td>\n",
       "      <td>14060.000000</td>\n",
       "      <td>14060.000000</td>\n",
       "    </tr>\n",
       "    <tr>\n",
       "      <th>mean</th>\n",
       "      <td>5685.420831</td>\n",
       "      <td>49.780748</td>\n",
       "      <td>8158.461466</td>\n",
       "      <td>105.809673</td>\n",
       "      <td>1052.712482</td>\n",
       "    </tr>\n",
       "    <tr>\n",
       "      <th>std</th>\n",
       "      <td>154.239546</td>\n",
       "      <td>15.279831</td>\n",
       "      <td>7473.221172</td>\n",
       "      <td>40.517199</td>\n",
       "      <td>268.772546</td>\n",
       "    </tr>\n",
       "    <tr>\n",
       "      <th>min</th>\n",
       "      <td>5342.288250</td>\n",
       "      <td>16.897151</td>\n",
       "      <td>0.000000</td>\n",
       "      <td>0.000000</td>\n",
       "      <td>0.000000</td>\n",
       "    </tr>\n",
       "    <tr>\n",
       "      <th>25%</th>\n",
       "      <td>5574.156665</td>\n",
       "      <td>32.908429</td>\n",
       "      <td>0.000000</td>\n",
       "      <td>79.000000</td>\n",
       "      <td>1129.461678</td>\n",
       "    </tr>\n",
       "    <tr>\n",
       "      <th>50%</th>\n",
       "      <td>5700.343796</td>\n",
       "      <td>57.712790</td>\n",
       "      <td>11465.138350</td>\n",
       "      <td>129.000000</td>\n",
       "      <td>1176.520444</td>\n",
       "    </tr>\n",
       "    <tr>\n",
       "      <th>75%</th>\n",
       "      <td>5812.685204</td>\n",
       "      <td>63.913879</td>\n",
       "      <td>12791.497740</td>\n",
       "      <td>130.000000</td>\n",
       "      <td>1176.597074</td>\n",
       "    </tr>\n",
       "    <tr>\n",
       "      <th>max</th>\n",
       "      <td>5931.391960</td>\n",
       "      <td>68.671331</td>\n",
       "      <td>168020.474900</td>\n",
       "      <td>141.000000</td>\n",
       "      <td>1177.141343</td>\n",
       "    </tr>\n",
       "  </tbody>\n",
       "</table>\n",
       "</div>"
      ],
      "text/plain": [
       "           Depth,ft      ROP,ft/h        WOB,lbs       RPM,rpm         Q,gpm\n",
       "count  14060.000000  14060.000000   14060.000000  14060.000000  14060.000000\n",
       "mean    5685.420831     49.780748    8158.461466    105.809673   1052.712482\n",
       "std      154.239546     15.279831    7473.221172     40.517199    268.772546\n",
       "min     5342.288250     16.897151       0.000000      0.000000      0.000000\n",
       "25%     5574.156665     32.908429       0.000000     79.000000   1129.461678\n",
       "50%     5700.343796     57.712790   11465.138350    129.000000   1176.520444\n",
       "75%     5812.685204     63.913879   12791.497740    130.000000   1176.597074\n",
       "max     5931.391960     68.671331  168020.474900    141.000000   1177.141343"
      ]
     },
     "execution_count": 6,
     "metadata": {},
     "output_type": "execute_result"
    }
   ],
   "source": [
    "df.describe()"
   ]
  },
  {
   "cell_type": "code",
   "execution_count": 7,
   "metadata": {},
   "outputs": [],
   "source": [
    "#sns.pairplot(df)"
   ]
  },
  {
   "cell_type": "code",
   "execution_count": 8,
   "metadata": {},
   "outputs": [],
   "source": [
    "#sns.heatmap(df.corr())"
   ]
  },
  {
   "cell_type": "code",
   "execution_count": 9,
   "metadata": {},
   "outputs": [],
   "source": [
    "temp=df.drop('Depth,ft',axis=1)"
   ]
  },
  {
   "cell_type": "code",
   "execution_count": 10,
   "metadata": {},
   "outputs": [
    {
     "data": {
      "text/plain": [
       "<matplotlib.axes._subplots.AxesSubplot at 0x20baaf78128>"
      ]
     },
     "execution_count": 10,
     "metadata": {},
     "output_type": "execute_result"
    },
    {
     "data": {
      "image/png": "[encoded data removed]",
      "text/plain": [
       "<Figure size 432x288 with 2 Axes>"
      ]
     },
     "metadata": {
      "needs_background": "light"
     },
     "output_type": "display_data"
    }
   ],
   "source": [
    "sns.heatmap(temp.corr(),annot=True, vmin=-1)"
   ]
  },
  {
   "cell_type": "code",
   "execution_count": 11,
   "metadata": {},
   "outputs": [
    {
     "data": {
      "text/plain": [
       "Index(['Depth,ft', 'ROP,ft/h', 'WOB,lbs', 'RPM,rpm', 'Q,gpm'], dtype='object')"
      ]
     },
     "execution_count": 11,
     "metadata": {},
     "output_type": "execute_result"
    }
   ],
   "source": [
    "df.columns"
   ]
  },
  {
   "cell_type": "code",
   "execution_count": 12,
   "metadata": {},
   "outputs": [],
   "source": [
    "#X=df[[ 'WOB,lbs', 'Q,gpm', 'RPM,rpm']]"
   ]
  },
  {
   "cell_type": "code",
   "execution_count": 13,
   "metadata": {},
   "outputs": [],
   "source": [
    "#Y=df['ROP,ft/h']"
   ]
  },
  {
   "cell_type": "code",
   "execution_count": 14,
   "metadata": {},
   "outputs": [],
   "source": [
    "X = df.iloc[:, 2:5].values\n",
    "Y = df.iloc[:, 1].values"
   ]
  },
  {
   "cell_type": "code",
   "execution_count": 15,
   "metadata": {},
   "outputs": [
    {
     "data": {
      "text/plain": [
       "array([[11420.17682 ,   130.      ,  1176.676411],\n",
       "       [11307.77397 ,   129.      ,  1176.48084 ],\n",
       "       [11734.90559 ,   128.      ,  1176.676411],\n",
       "       ...,\n",
       "       [12724.05544 ,   139.      ,  1176.48084 ],\n",
       "       [13465.91682 ,   139.      ,  1176.48084 ],\n",
       "       [12544.21028 ,   140.      ,  1176.676411]])"
      ]
     },
     "execution_count": 15,
     "metadata": {},
     "output_type": "execute_result"
    }
   ],
   "source": [
    "X"
   ]
  },
  {
   "cell_type": "code",
   "execution_count": 16,
   "metadata": {},
   "outputs": [
    {
     "data": {
      "text/plain": [
       "array([55.61295278, 55.61295278, 55.61295278, ..., 33.10529046,\n",
       "       33.10529046, 33.10529046])"
      ]
     },
     "execution_count": 16,
     "metadata": {},
     "output_type": "execute_result"
    }
   ],
   "source": [
    "Y"
   ]
  },
  {
   "cell_type": "code",
   "execution_count": null,
   "metadata": {},
   "outputs": [],
   "source": []
  },
  {
   "cell_type": "code",
   "execution_count": 17,
   "metadata": {},
   "outputs": [],
   "source": [
    "from sklearn.model_selection import train_test_split\n",
    "\n",
    "X_train, X_test, Y_train, Y_test = train_test_split(X, Y, test_size=0.2, random_state=0,)"
   ]
  },
  {
   "cell_type": "code",
   "execution_count": 18,
   "metadata": {},
   "outputs": [],
   "source": [
    "from sklearn.preprocessing import StandardScaler\n",
    "\n",
    "sc = StandardScaler()\n",
    "X_train = sc.fit_transform(X_train)\n",
    "X_test = sc.transform(X_test)"
   ]
  },
  {
   "cell_type": "code",
   "execution_count": 19,
   "metadata": {},
   "outputs": [],
   "source": [
    "from sklearn.ensemble import RandomForestRegressor\n",
    "\n",
    "regressor = RandomForestRegressor(n_estimators=400, max_features=3, max_depth= 10,)\n",
    "regressor.fit(X_train, Y_train)\n",
    "Y_pred = regressor.predict(X_test)"
   ]
  },
  {
   "cell_type": "code",
   "execution_count": 20,
   "metadata": {},
   "outputs": [
    {
     "name": "stdout",
     "output_type": "stream",
     "text": [
      "Mean Absolute Error: 6.764511708175976\n",
      "Mean Squared Error: 110.69868171256094\n",
      "Root Mean Squared Error: 10.521344101993858\n"
     ]
    }
   ],
   "source": [
    "from sklearn import metrics\n",
    "\n",
    "print('Mean Absolute Error:', metrics.mean_absolute_error(Y_test, Y_pred))\n",
    "print('Mean Squared Error:', metrics.mean_squared_error(Y_test, Y_pred))\n",
    "print('Root Mean Squared Error:', np.sqrt(metrics.mean_squared_error(Y_test, Y_pred)))"
   ]
  },
  {
   "cell_type": "code",
   "execution_count": 21,
   "metadata": {},
   "outputs": [
    {
     "name": "stdout",
     "output_type": "stream",
     "text": [
      "Metrics for Random Forest Trained on Original Data\n",
      "Average absolute error: 6.76 degrees.\n",
      "Accuracy: 83.32 %.\n"
     ]
    }
   ],
   "source": [
    "errors = abs(Y_pred - Y_test)\n",
    "\n",
    "print('Metrics for Random Forest Trained on Original Data')\n",
    "print('Average absolute error:', round(np.mean(errors), 2), 'degrees.')\n",
    "# Calculate mean absolute percentage error (MAPE)\n",
    "mape = 100 * (errors / Y_test)\n",
    "# Calculate and display accuracy\n",
    "accuracy = 100 - np.mean(mape)\n",
    "print('Accuracy:', round(accuracy, 2), '%.')"
   ]
  },
  {
   "cell_type": "code",
   "execution_count": null,
   "metadata": {},
   "outputs": [],
   "source": []
  },
  {
   "cell_type": "code",
   "execution_count": 22,
   "metadata": {},
   "outputs": [],
   "source": [
    "#################################################\n",
    "###############################################\n",
    "############ CROSS VALIDATION #####################"
   ]
  },
  {
   "cell_type": "code",
   "execution_count": 23,
   "metadata": {},
   "outputs": [],
   "source": [
    "from pprint import pprint"
   ]
  },
  {
   "cell_type": "code",
   "execution_count": 24,
   "metadata": {},
   "outputs": [
    {
     "name": "stdout",
     "output_type": "stream",
     "text": [
      "{'bootstrap': [True, False],\n",
      " 'max_depth': [10, 20, 30, 40, 50, 60, 70, 80, 90, 100, 110, None],\n",
      " 'max_features': ['auto', 'sqrt'],\n",
      " 'min_samples_leaf': [1, 2, 4],\n",
      " 'min_samples_split': [2, 5, 10],\n",
      " 'n_estimators': [200, 400, 600, 800, 1000, 1200, 1400, 1600, 1800, 2000]}\n"
     ]
    }
   ],
   "source": [
    "from sklearn.model_selection import RandomizedSearchCV\n",
    "# Number of trees in random forest\n",
    "n_estimators = [int(x) for x in np.linspace(start = 200, stop = 2000, num = 10)]\n",
    "# Number of features to consider at every split\n",
    "max_features = ['auto', 'sqrt']\n",
    "# Maximum number of levels in tree\n",
    "max_depth = [int(x) for x in np.linspace(10, 110, num = 11)]\n",
    "max_depth.append(None)\n",
    "# Minimum number of samples required to split a node\n",
    "min_samples_split = [2, 5, 10]\n",
    "# Minimum number of samples required at each leaf node\n",
    "min_samples_leaf = [1, 2, 4]\n",
    "# Method of selecting samples for training each tree\n",
    "bootstrap = [True, False]\n",
    "# Create the random grid\n",
    "random_grid = {'n_estimators': n_estimators,\n",
    "               'max_features': max_features,\n",
    "               'max_depth': max_depth,\n",
    "               'min_samples_split': min_samples_split,\n",
    "               'min_samples_leaf': min_samples_leaf,\n",
    "               'bootstrap': bootstrap}\n",
    "pprint(random_grid)"
   ]
  },
  {
   "cell_type": "code",
   "execution_count": 25,
   "metadata": {},
   "outputs": [
    {
     "name": "stdout",
     "output_type": "stream",
     "text": [
      "Fitting 3 folds for each of 100 candidates, totalling 300 fits\n"
     ]
    },
    {
     "name": "stderr",
     "output_type": "stream",
     "text": [
      "[Parallel(n_jobs=-1)]: Using backend LokyBackend with 12 concurrent workers.\n",
      "[Parallel(n_jobs=-1)]: Done  17 tasks      | elapsed:   17.9s\n",
      "[Parallel(n_jobs=-1)]: Done 138 tasks      | elapsed:  2.1min\n",
      "[Parallel(n_jobs=-1)]: Done 300 out of 300 | elapsed:  4.7min finished\n"
     ]
    },
    {
     "data": {
      "text/plain": [
       "RandomizedSearchCV(cv=3, error_score='raise-deprecating',\n",
       "                   estimator=RandomForestRegressor(bootstrap=True,\n",
       "                                                   criterion='mse',\n",
       "                                                   max_depth=None,\n",
       "                                                   max_features='auto',\n",
       "                                                   max_leaf_nodes=None,\n",
       "                                                   min_impurity_decrease=0.0,\n",
       "                                                   min_impurity_split=None,\n",
       "                                                   min_samples_leaf=1,\n",
       "                                                   min_samples_split=2,\n",
       "                                                   min_weight_fraction_leaf=0.0,\n",
       "                                                   n_estimators='warn',\n",
       "                                                   n_jobs=None, oob_score=False,\n",
       "                                                   random_sta...\n",
       "                   param_distributions={'bootstrap': [True, False],\n",
       "                                        'max_depth': [10, 20, 30, 40, 50, 60,\n",
       "                                                      70, 80, 90, 100, 110,\n",
       "                                                      None],\n",
       "                                        'max_features': ['auto', 'sqrt'],\n",
       "                                        'min_samples_leaf': [1, 2, 4],\n",
       "                                        'min_samples_split': [2, 5, 10],\n",
       "                                        'n_estimators': [200, 400, 600, 800,\n",
       "                                                         1000, 1200, 1400, 1600,\n",
       "                                                         1800, 2000]},\n",
       "                   pre_dispatch='2*n_jobs', random_state=42, refit=True,\n",
       "                   return_train_score=False, scoring=None, verbose=2)"
      ]
     },
     "execution_count": 25,
     "metadata": {},
     "output_type": "execute_result"
    }
   ],
   "source": [
    "# Use the random grid to search for best hyperparameters\n",
    "# First create the base model to tune\n",
    "rf = RandomForestRegressor()\n",
    "# Random search of parameters, using 3 fold cross validation, \n",
    "# search across 100 different combinations, and use all available cores\n",
    "rf_random = RandomizedSearchCV(estimator = rf, param_distributions = random_grid, n_iter = 100, cv = 3, verbose=2, random_state=42, n_jobs = -1)\n",
    "# Fit the random search model\n",
    "rf_random.fit(X_train, Y_train)"
   ]
  },
  {
   "cell_type": "code",
   "execution_count": 26,
   "metadata": {},
   "outputs": [
    {
     "data": {
      "text/plain": [
       "{'n_estimators': 2000,\n",
       " 'min_samples_split': 5,\n",
       " 'min_samples_leaf': 1,\n",
       " 'max_features': 'sqrt',\n",
       " 'max_depth': 10,\n",
       " 'bootstrap': True}"
      ]
     },
     "execution_count": 26,
     "metadata": {},
     "output_type": "execute_result"
    }
   ],
   "source": [
    "rf_random.best_params_"
   ]
  },
  {
   "cell_type": "code",
   "execution_count": null,
   "metadata": {},
   "outputs": [],
   "source": [
    "##############################################################################\n",
    "###############################################################################"
   ]
  },
  {
   "cell_type": "code",
   "execution_count": 27,
   "metadata": {},
   "outputs": [],
   "source": [
    "df = pd.DataFrame(Y_test,Y_pred)\n",
    "df.to_excel(excel_writer = \"C:/Users/johna/Desktop/y_test.xlsx\")"
   ]
  },
  {
   "cell_type": "code",
   "execution_count": 46,
   "metadata": {},
   "outputs": [
    {
     "data": {
      "text/plain": [
       "<matplotlib.legend.Legend at 0x20bb36b1dd8>"
      ]
     },
     "execution_count": 46,
     "metadata": {},
     "output_type": "execute_result"
    },
    {
     "data": {
      "text/plain": [
       "<Figure size 3600x1800 with 0 Axes>"
      ]
     },
     "metadata": {},
     "output_type": "display_data"
    },
    {
     "data": {
      "image/png": "[encoded data removed]",
      "text/plain": [
       "<Figure size 144x720 with 1 Axes>"
      ]
     },
     "metadata": {
      "needs_background": "light"
     },
     "output_type": "display_data"
    }
   ],
   "source": [
    "new_x=np.arange(1,len(Y_pred)+1)\n",
    "\n",
    "fig = plt.figure(figsize=(2,1), dpi=1800)\n",
    "fig, axes = plt.subplots(figsize=(2,10))\n",
    "\n",
    "axes.plot(Y_pred[0:200] ,new_x[0:200], 'r--', linewidth=1, label=\"y_predicted\")\n",
    "axes.plot(Y_test[0:200], new_x[0:200],'y', linewidth=2, label=\"y_test\" )\n",
    "axes.set_ylabel(\"Relative Depth (ft)\", size=1)\n",
    "axes.set_xlabel(\"ROP (ft/h)\", size=1)\n",
    "axes.legend(loc=2, prop={'size': 10})\n"
   ]
  },
  {
   "cell_type": "code",
   "execution_count": null,
   "metadata": {},
   "outputs": [],
   "source": [
    "##############################################################################################################################\n",
    "##############################################################################################################################\n",
    "##########   PARTICLE SWARM TEST  ##############"
   ]
  },
  {
   "cell_type": "code",
   "execution_count": 29,
   "metadata": {},
   "outputs": [],
   "source": [
    "\n",
    "\n",
    "def evalROP(x):\n",
    "    f = regressor.predict(x)\n",
    "    return -0.9*f"
   ]
  },
  {
   "cell_type": "code",
   "execution_count": 30,
   "metadata": {},
   "outputs": [],
   "source": [
    "import pyswarms as ps"
   ]
  },
  {
   "cell_type": "code",
   "execution_count": 31,
   "metadata": {},
   "outputs": [],
   "source": [
    "x_max_list = [17000, 145, 1180]\n",
    "x_min_list = [10000,100,1170]"
   ]
  },
  {
   "cell_type": "code",
   "execution_count": 32,
   "metadata": {},
   "outputs": [],
   "source": [
    "x_max=np.array(x_max_list)\n",
    "x_min=np.array(x_min_list)"
   ]
  },
  {
   "cell_type": "code",
   "execution_count": null,
   "metadata": {},
   "outputs": [],
   "source": []
  },
  {
   "cell_type": "code",
   "execution_count": 33,
   "metadata": {},
   "outputs": [
    {
     "name": "stderr",
     "output_type": "stream",
     "text": [
      "2020-08-05 23:55:03,231 - pyswarms.single.global_best - INFO - Optimize for 2 iters with {'c1': 0.5, 'c2': 0.3, 'w': 0.9}\n",
      "pyswarms.single.global_best: 100%|██████████|2/2, best_cost=-65\n",
      "2020-08-05 23:55:03,629 - pyswarms.single.global_best - INFO - Optimization finished | best cost: -65.00827732733485, best pos: [12934.54195278   106.38789286  1170.00327832]\n",
      "2020-08-05 23:55:03,634 - pyswarms.single.global_best - INFO - Optimize for 2 iters with {'c1': 0.5, 'c2': 0.3, 'w': 0.9}\n",
      "pyswarms.single.global_best: 100%|██████████|2/2, best_cost=-64.4\n",
      "2020-08-05 23:55:03,682 - pyswarms.single.global_best - INFO - Optimization finished | best cost: -64.35850240566997, best pos: [16717.53239071   113.26237252  1176.0437386 ]\n",
      "2020-08-05 23:55:03,688 - pyswarms.single.global_best - INFO - Optimize for 2 iters with {'c1': 0.5, 'c2': 0.3, 'w': 0.9}\n",
      "pyswarms.single.global_best: 100%|██████████|2/2, best_cost=-64.2\n",
      "2020-08-05 23:55:03,732 - pyswarms.single.global_best - INFO - Optimization finished | best cost: -64.18797982499105, best pos: [11669.90408076   118.52767956  1171.03812158]\n",
      "2020-08-05 23:55:03,737 - pyswarms.single.global_best - INFO - Optimize for 2 iters with {'c1': 0.5, 'c2': 0.3, 'w': 0.9}\n",
      "pyswarms.single.global_best: 100%|██████████|2/2, best_cost=-64.1\n",
      "2020-08-05 23:55:03,783 - pyswarms.single.global_best - INFO - Optimization finished | best cost: -64.06817520745544, best pos: [15648.05676909   119.8672302   1176.80635457]\n",
      "2020-08-05 23:55:03,788 - pyswarms.single.global_best - INFO - Optimize for 2 iters with {'c1': 0.5, 'c2': 0.3, 'w': 0.9}\n",
      "pyswarms.single.global_best: 100%|██████████|2/2, best_cost=-64\n",
      "2020-08-05 23:55:03,833 - pyswarms.single.global_best - INFO - Optimization finished | best cost: -63.97263483873699, best pos: [12064.46746858   113.00114247  1177.85355862]\n",
      "2020-08-05 23:55:03,839 - pyswarms.single.global_best - INFO - Optimize for 2 iters with {'c1': 0.5, 'c2': 0.3, 'w': 0.9}\n",
      "pyswarms.single.global_best: 100%|██████████|2/2, best_cost=-63.9\n",
      "2020-08-05 23:55:03,883 - pyswarms.single.global_best - INFO - Optimization finished | best cost: -63.89181602380233, best pos: [14725.39646126   114.53644123  1177.04165873]\n",
      "2020-08-05 23:55:03,888 - pyswarms.single.global_best - INFO - Optimize for 2 iters with {'c1': 0.5, 'c2': 0.3, 'w': 0.9}\n",
      "pyswarms.single.global_best: 100%|██████████|2/2, best_cost=-63.8\n",
      "2020-08-05 23:55:03,940 - pyswarms.single.global_best - INFO - Optimization finished | best cost: -63.821051599979754, best pos: [14306.93532351   107.10360173  1173.62411921]\n",
      "2020-08-05 23:55:03,945 - pyswarms.single.global_best - INFO - Optimize for 2 iters with {'c1': 0.5, 'c2': 0.3, 'w': 0.9}\n",
      "pyswarms.single.global_best: 100%|██████████|2/2, best_cost=-63.8\n",
      "2020-08-05 23:55:03,990 - pyswarms.single.global_best - INFO - Optimization finished | best cost: -63.7576678071306, best pos: [15298.67931565   123.82730392  1177.55203347]\n",
      "2020-08-05 23:55:03,994 - pyswarms.single.global_best - INFO - Optimize for 2 iters with {'c1': 0.5, 'c2': 0.3, 'w': 0.9}\n",
      "pyswarms.single.global_best: 100%|██████████|2/2, best_cost=-63.7\n",
      "2020-08-05 23:55:04,041 - pyswarms.single.global_best - INFO - Optimization finished | best cost: -63.69997323168938, best pos: [16667.10391823   120.09461436  1171.8008621 ]\n",
      "2020-08-05 23:55:04,047 - pyswarms.single.global_best - INFO - Optimize for 2 iters with {'c1': 0.5, 'c2': 0.3, 'w': 0.9}\n",
      "pyswarms.single.global_best: 100%|██████████|2/2, best_cost=-63.6\n",
      "2020-08-05 23:55:04,095 - pyswarms.single.global_best - INFO - Optimization finished | best cost: -63.64682199442931, best pos: [11606.99714616   109.28242719  1170.58260829]\n",
      "2020-08-05 23:55:04,100 - pyswarms.single.global_best - INFO - Optimize for 2 iters with {'c1': 0.5, 'c2': 0.3, 'w': 0.9}\n",
      "pyswarms.single.global_best: 100%|██████████|2/2, best_cost=-63.6\n",
      "2020-08-05 23:55:04,146 - pyswarms.single.global_best - INFO - Optimization finished | best cost: -63.597397678998604, best pos: [12847.22867102   139.58995846  1178.75399623]\n",
      "2020-08-05 23:55:04,151 - pyswarms.single.global_best - INFO - Optimize for 2 iters with {'c1': 0.5, 'c2': 0.3, 'w': 0.9}\n",
      "pyswarms.single.global_best: 100%|██████████|2/2, best_cost=-63.6\n",
      "2020-08-05 23:55:04,203 - pyswarms.single.global_best - INFO - Optimization finished | best cost: -63.55109565920616, best pos: [14609.90383231   112.72846078  1174.66840065]\n",
      "2020-08-05 23:55:04,208 - pyswarms.single.global_best - INFO - Optimize for 2 iters with {'c1': 0.5, 'c2': 0.3, 'w': 0.9}\n",
      "pyswarms.single.global_best: 100%|██████████|2/2, best_cost=-63.5\n",
      "2020-08-05 23:55:04,261 - pyswarms.single.global_best - INFO - Optimization finished | best cost: -63.5074542084911, best pos: [10224.49521231   114.54793986  1174.23800151]\n",
      "2020-08-05 23:55:04,266 - pyswarms.single.global_best - INFO - Optimize for 2 iters with {'c1': 0.5, 'c2': 0.3, 'w': 0.9}\n",
      "pyswarms.single.global_best: 100%|██████████|2/2, best_cost=-63.5\n",
      "2020-08-05 23:55:04,317 - pyswarms.single.global_best - INFO - Optimization finished | best cost: -63.46611182270575, best pos: [13771.92148448   107.61103049  1177.41741641]\n",
      "2020-08-05 23:55:04,322 - pyswarms.single.global_best - INFO - Optimize for 2 iters with {'c1': 0.5, 'c2': 0.3, 'w': 0.9}\n",
      "pyswarms.single.global_best: 100%|██████████|2/2, best_cost=-63.4\n",
      "2020-08-05 23:55:04,372 - pyswarms.single.global_best - INFO - Optimization finished | best cost: -63.42677955098205, best pos: [11952.97711268   140.36856359  1177.96246271]\n",
      "2020-08-05 23:55:04,377 - pyswarms.single.global_best - INFO - Optimize for 2 iters with {'c1': 0.5, 'c2': 0.3, 'w': 0.9}\n",
      "pyswarms.single.global_best: 100%|██████████|2/2, best_cost=-63.4\n",
      "2020-08-05 23:55:04,429 - pyswarms.single.global_best - INFO - Optimization finished | best cost: -63.389222372000006, best pos: [13423.10660137   122.67576405  1175.86404232]\n",
      "2020-08-05 23:55:04,433 - pyswarms.single.global_best - INFO - Optimize for 2 iters with {'c1': 0.5, 'c2': 0.3, 'w': 0.9}\n",
      "pyswarms.single.global_best: 100%|██████████|2/2, best_cost=-63.4\n",
      "2020-08-05 23:55:04,486 - pyswarms.single.global_best - INFO - Optimization finished | best cost: -63.353246258566465, best pos: [11727.75503958   121.82287484  1177.50141709]\n",
      "2020-08-05 23:55:04,490 - pyswarms.single.global_best - INFO - Optimize for 2 iters with {'c1': 0.5, 'c2': 0.3, 'w': 0.9}\n",
      "pyswarms.single.global_best: 100%|██████████|2/2, best_cost=-63.3\n",
      "2020-08-05 23:55:04,545 - pyswarms.single.global_best - INFO - Optimization finished | best cost: -63.31868894966847, best pos: [10538.53350121   130.7295694   1173.13892043]\n",
      "2020-08-05 23:55:04,550 - pyswarms.single.global_best - INFO - Optimize for 2 iters with {'c1': 0.5, 'c2': 0.3, 'w': 0.9}\n",
      "pyswarms.single.global_best: 100%|██████████|2/2, best_cost=-63.3\n",
      "2020-08-05 23:55:04,598 - pyswarms.single.global_best - INFO - Optimization finished | best cost: -63.2854132139588, best pos: [11244.28582545   135.8184933   1177.83172776]\n",
      "2020-08-05 23:55:04,603 - pyswarms.single.global_best - INFO - Optimize for 2 iters with {'c1': 0.5, 'c2': 0.3, 'w': 0.9}\n",
      "pyswarms.single.global_best: 100%|██████████|2/2, best_cost=-63.3\n",
      "2020-08-05 23:55:04,651 - pyswarms.single.global_best - INFO - Optimization finished | best cost: -63.253301832337144, best pos: [10660.39825173   106.36926063  1179.49323351]\n",
      "2020-08-05 23:55:04,655 - pyswarms.single.global_best - INFO - Optimize for 2 iters with {'c1': 0.5, 'c2': 0.3, 'w': 0.9}\n",
      "pyswarms.single.global_best: 100%|██████████|2/2, best_cost=-63.2\n",
      "2020-08-05 23:55:04,706 - pyswarms.single.global_best - INFO - Optimization finished | best cost: -63.22225379442504, best pos: [14081.51667689   141.2951987   1172.88276617]\n",
      "2020-08-05 23:55:04,711 - pyswarms.single.global_best - INFO - Optimize for 2 iters with {'c1': 0.5, 'c2': 0.3, 'w': 0.9}\n",
      "pyswarms.single.global_best: 100%|██████████|2/2, best_cost=-63.2\n",
      "2020-08-05 23:55:04,763 - pyswarms.single.global_best - INFO - Optimization finished | best cost: -63.19218136982709, best pos: [13389.80295323   116.7953875   1172.98451767]\n",
      "2020-08-05 23:55:04,768 - pyswarms.single.global_best - INFO - Optimize for 2 iters with {'c1': 0.5, 'c2': 0.3, 'w': 0.9}\n",
      "pyswarms.single.global_best: 100%|██████████|2/2, best_cost=-63.2\n",
      "2020-08-05 23:55:04,817 - pyswarms.single.global_best - INFO - Optimization finished | best cost: -63.16300782130607, best pos: [16053.24065952   117.78383496  1175.28068206]\n",
      "2020-08-05 23:55:04,822 - pyswarms.single.global_best - INFO - Optimize for 2 iters with {'c1': 0.5, 'c2': 0.3, 'w': 0.9}\n",
      "pyswarms.single.global_best: 100%|██████████|2/2, best_cost=-63.1\n",
      "2020-08-05 23:55:04,874 - pyswarms.single.global_best - INFO - Optimization finished | best cost: -63.134665596671304, best pos: [15594.87686555   129.75165544  1175.31880943]\n",
      "2020-08-05 23:55:04,879 - pyswarms.single.global_best - INFO - Optimize for 2 iters with {'c1': 0.5, 'c2': 0.3, 'w': 0.9}\n",
      "pyswarms.single.global_best: 100%|██████████|2/2, best_cost=-63.1\n",
      "2020-08-05 23:55:04,932 - pyswarms.single.global_best - INFO - Optimization finished | best cost: -63.10709488290573, best pos: [10687.1052442    127.78190238  1173.39967396]\n",
      "2020-08-05 23:55:04,939 - pyswarms.single.global_best - INFO - Optimize for 2 iters with {'c1': 0.5, 'c2': 0.3, 'w': 0.9}\n",
      "pyswarms.single.global_best: 100%|██████████|2/2, best_cost=-63.1\n",
      "2020-08-05 23:55:04,993 - pyswarms.single.global_best - INFO - Optimization finished | best cost: -63.08024243802899, best pos: [14670.88489131   102.28475242  1176.84748471]\n",
      "2020-08-05 23:55:04,997 - pyswarms.single.global_best - INFO - Optimize for 2 iters with {'c1': 0.5, 'c2': 0.3, 'w': 0.9}\n",
      "pyswarms.single.global_best: 100%|██████████|2/2, best_cost=-63.1\n",
      "2020-08-05 23:55:05,048 - pyswarms.single.global_best - INFO - Optimization finished | best cost: -63.05406063847142, best pos: [12571.00404104   109.1329084   1170.17715039]\n",
      "2020-08-05 23:55:05,053 - pyswarms.single.global_best - INFO - Optimize for 2 iters with {'c1': 0.5, 'c2': 0.3, 'w': 0.9}\n",
      "pyswarms.single.global_best: 100%|██████████|2/2, best_cost=-63\n",
      "2020-08-05 23:55:05,104 - pyswarms.single.global_best - INFO - Optimization finished | best cost: -63.028506695512874, best pos: [13243.61782549   143.74915596  1171.3191509 ]\n",
      "2020-08-05 23:55:05,109 - pyswarms.single.global_best - INFO - Optimize for 2 iters with {'c1': 0.5, 'c2': 0.3, 'w': 0.9}\n",
      "pyswarms.single.global_best: 100%|██████████|2/2, best_cost=-63\n",
      "2020-08-05 23:55:05,159 - pyswarms.single.global_best - INFO - Optimization finished | best cost: -63.003542005686235, best pos: [15813.23860824   111.73436502  1176.12164056]\n",
      "2020-08-05 23:55:05,164 - pyswarms.single.global_best - INFO - Optimize for 2 iters with {'c1': 0.5, 'c2': 0.3, 'w': 0.9}\n",
      "pyswarms.single.global_best: 100%|██████████|2/2, best_cost=-63\n",
      "2020-08-05 23:55:05,212 - pyswarms.single.global_best - INFO - Optimization finished | best cost: -62.979131608316465, best pos: [14967.22509008   102.79988568  1175.69641033]\n",
      "2020-08-05 23:55:05,217 - pyswarms.single.global_best - INFO - Optimize for 2 iters with {'c1': 0.5, 'c2': 0.3, 'w': 0.9}\n",
      "pyswarms.single.global_best: 100%|██████████|2/2, best_cost=-63\n",
      "2020-08-05 23:55:05,266 - pyswarms.single.global_best - INFO - Optimization finished | best cost: -62.955243729471896, best pos: [14827.2008348    131.31434285  1175.97117609]\n",
      "2020-08-05 23:55:05,270 - pyswarms.single.global_best - INFO - Optimize for 2 iters with {'c1': 0.5, 'c2': 0.3, 'w': 0.9}\n",
      "pyswarms.single.global_best: 100%|██████████|2/2, best_cost=-62.9\n",
      "2020-08-05 23:55:05,321 - pyswarms.single.global_best - INFO - Optimization finished | best cost: -62.931849396164885, best pos: [10308.63388624   123.21050004  1170.76042936]\n",
      "2020-08-05 23:55:05,325 - pyswarms.single.global_best - INFO - Optimize for 2 iters with {'c1': 0.5, 'c2': 0.3, 'w': 0.9}\n",
      "pyswarms.single.global_best: 100%|██████████|2/2, best_cost=-62.9\n",
      "2020-08-05 23:55:05,377 - pyswarms.single.global_best - INFO - Optimization finished | best cost: -62.90892210808227, best pos: [11232.43689105   123.94466426  1179.60972619]\n",
      "2020-08-05 23:55:05,381 - pyswarms.single.global_best - INFO - Optimize for 2 iters with {'c1': 0.5, 'c2': 0.3, 'w': 0.9}\n",
      "pyswarms.single.global_best: 100%|██████████|2/2, best_cost=-62.9\n",
      "2020-08-05 23:55:05,431 - pyswarms.single.global_best - INFO - Optimization finished | best cost: -62.88643755675157, best pos: [11550.41192576   133.90815495  1178.45437625]\n",
      "2020-08-05 23:55:05,436 - pyswarms.single.global_best - INFO - Optimize for 2 iters with {'c1': 0.5, 'c2': 0.3, 'w': 0.9}\n",
      "pyswarms.single.global_best: 100%|██████████|2/2, best_cost=-62.9\n",
      "2020-08-05 23:55:05,486 - pyswarms.single.global_best - INFO - Optimization finished | best cost: -62.864373384069985, best pos: [12872.27808594   105.35641548  1170.02638203]\n",
      "2020-08-05 23:55:05,490 - pyswarms.single.global_best - INFO - Optimize for 2 iters with {'c1': 0.5, 'c2': 0.3, 'w': 0.9}\n",
      "pyswarms.single.global_best: 100%|██████████|2/2, best_cost=-62.8\n",
      "2020-08-05 23:55:05,540 - pyswarms.single.global_best - INFO - Optimization finished | best cost: -62.8427089736927, best pos: [14682.31876184   131.4580573   1171.60707447]\n",
      "2020-08-05 23:55:05,545 - pyswarms.single.global_best - INFO - Optimize for 2 iters with {'c1': 0.5, 'c2': 0.3, 'w': 0.9}\n",
      "pyswarms.single.global_best: 100%|██████████|2/2, best_cost=-62.8\n",
      "2020-08-05 23:55:05,595 - pyswarms.single.global_best - INFO - Optimization finished | best cost: -62.82142527000494, best pos: [11086.20903877   134.74229545  1176.61255234]\n",
      "2020-08-05 23:55:05,600 - pyswarms.single.global_best - INFO - Optimize for 2 iters with {'c1': 0.5, 'c2': 0.3, 'w': 0.9}\n",
      "pyswarms.single.global_best: 100%|██████████|2/2, best_cost=-62.8\n",
      "2020-08-05 23:55:05,651 - pyswarms.single.global_best - INFO - Optimization finished | best cost: -62.80050462037153, best pos: [10507.50933539   107.63730508  1178.41015378]\n",
      "2020-08-05 23:55:05,656 - pyswarms.single.global_best - INFO - Optimize for 2 iters with {'c1': 0.5, 'c2': 0.3, 'w': 0.9}\n",
      "pyswarms.single.global_best: 100%|██████████|2/2, best_cost=-62.8\n",
      "2020-08-05 23:55:05,704 - pyswarms.single.global_best - INFO - Optimization finished | best cost: -62.779930637127386, best pos: [14460.10447781   128.87009589  1172.10138195]\n",
      "2020-08-05 23:55:05,709 - pyswarms.single.global_best - INFO - Optimize for 2 iters with {'c1': 0.5, 'c2': 0.3, 'w': 0.9}\n",
      "pyswarms.single.global_best: 100%|██████████|2/2, best_cost=-62.8\n",
      "2020-08-05 23:55:05,757 - pyswarms.single.global_best - INFO - Optimization finished | best cost: -62.75968807638775, best pos: [10679.72328449   135.29637665  1170.8509058 ]\n",
      "2020-08-05 23:55:05,762 - pyswarms.single.global_best - INFO - Optimize for 2 iters with {'c1': 0.5, 'c2': 0.3, 'w': 0.9}\n",
      "pyswarms.single.global_best: 100%|██████████|2/2, best_cost=-62.7\n",
      "2020-08-05 23:55:05,809 - pyswarms.single.global_best - INFO - Optimization finished | best cost: -62.739762731252725, best pos: [15662.96618278   137.30823033  1172.57647353]\n",
      "2020-08-05 23:55:05,814 - pyswarms.single.global_best - INFO - Optimize for 2 iters with {'c1': 0.5, 'c2': 0.3, 'w': 0.9}\n",
      "pyswarms.single.global_best: 100%|██████████|2/2, best_cost=-62.7\n",
      "2020-08-05 23:55:05,868 - pyswarms.single.global_best - INFO - Optimization finished | best cost: -62.72014133738208, best pos: [11042.31637269   107.41006472  1176.69118813]\n",
      "2020-08-05 23:55:05,873 - pyswarms.single.global_best - INFO - Optimize for 2 iters with {'c1': 0.5, 'c2': 0.3, 'w': 0.9}\n",
      "pyswarms.single.global_best: 100%|██████████|2/2, best_cost=-62.7\n",
      "2020-08-05 23:55:05,921 - pyswarms.single.global_best - INFO - Optimization finished | best cost: -62.7008114892426, best pos: [13369.43212154   115.53530668  1176.93980747]\n",
      "2020-08-05 23:55:05,926 - pyswarms.single.global_best - INFO - Optimize for 2 iters with {'c1': 0.5, 'c2': 0.3, 'w': 0.9}\n",
      "pyswarms.single.global_best: 100%|██████████|2/2, best_cost=-62.7\n",
      "2020-08-05 23:55:05,976 - pyswarms.single.global_best - INFO - Optimization finished | best cost: -62.68176156559823, best pos: [12925.61397169   123.57011314  1170.12375849]\n",
      "2020-08-05 23:55:05,981 - pyswarms.single.global_best - INFO - Optimize for 2 iters with {'c1': 0.5, 'c2': 0.3, 'w': 0.9}\n",
      "pyswarms.single.global_best: 100%|██████████|2/2, best_cost=-62.7\n",
      "2020-08-05 23:55:06,033 - pyswarms.single.global_best - INFO - Optimization finished | best cost: -62.66298066303331, best pos: [10684.91274244   109.459174    1178.90301253]\n"
     ]
    },
    {
     "name": "stderr",
     "output_type": "stream",
     "text": [
      "2020-08-05 23:55:06,038 - pyswarms.single.global_best - INFO - Optimize for 2 iters with {'c1': 0.5, 'c2': 0.3, 'w': 0.9}\n",
      "pyswarms.single.global_best: 100%|██████████|2/2, best_cost=-62.6\n",
      "2020-08-05 23:55:06,086 - pyswarms.single.global_best - INFO - Optimization finished | best cost: -62.64445853648104, best pos: [11563.71412075   104.88812294  1175.47378548]\n",
      "2020-08-05 23:55:06,091 - pyswarms.single.global_best - INFO - Optimize for 2 iters with {'c1': 0.5, 'c2': 0.3, 'w': 0.9}\n",
      "pyswarms.single.global_best: 100%|██████████|2/2, best_cost=-62.6\n",
      "2020-08-05 23:55:06,143 - pyswarms.single.global_best - INFO - Optimization finished | best cost: -62.62618554588086, best pos: [12362.14686323   124.9234894   1179.36565919]\n",
      "2020-08-05 23:55:06,148 - pyswarms.single.global_best - INFO - Optimize for 2 iters with {'c1': 0.5, 'c2': 0.3, 'w': 0.9}\n",
      "pyswarms.single.global_best: 100%|██████████|2/2, best_cost=-62.6\n",
      "2020-08-05 23:55:06,200 - pyswarms.single.global_best - INFO - Optimization finished | best cost: -62.60815260821455, best pos: [13884.26432502   130.10725458  1176.25780572]\n",
      "2020-08-05 23:55:06,205 - pyswarms.single.global_best - INFO - Optimize for 2 iters with {'c1': 0.5, 'c2': 0.3, 'w': 0.9}\n",
      "pyswarms.single.global_best: 100%|██████████|2/2, best_cost=-62.6\n",
      "2020-08-05 23:55:06,252 - pyswarms.single.global_best - INFO - Optimization finished | best cost: -62.59035115427649, best pos: [12091.46364023   129.29205749  1176.44756587]\n",
      "2020-08-05 23:55:06,258 - pyswarms.single.global_best - INFO - Optimize for 2 iters with {'c1': 0.5, 'c2': 0.3, 'w': 0.9}\n",
      "pyswarms.single.global_best: 100%|██████████|2/2, best_cost=-62.6\n",
      "2020-08-05 23:55:06,307 - pyswarms.single.global_best - INFO - Optimization finished | best cost: -62.57277308962253, best pos: [11382.38263697   130.16718318  1174.13324617]\n",
      "2020-08-05 23:55:06,312 - pyswarms.single.global_best - INFO - Optimize for 2 iters with {'c1': 0.5, 'c2': 0.3, 'w': 0.9}\n",
      "pyswarms.single.global_best: 100%|██████████|2/2, best_cost=-62.6\n",
      "2020-08-05 23:55:06,359 - pyswarms.single.global_best - INFO - Optimization finished | best cost: -62.55541075921717, best pos: [13729.42831837   122.60846726  1170.40587998]\n",
      "2020-08-05 23:55:06,365 - pyswarms.single.global_best - INFO - Optimize for 2 iters with {'c1': 0.5, 'c2': 0.3, 'w': 0.9}\n",
      "pyswarms.single.global_best: 100%|██████████|2/2, best_cost=-62.5\n",
      "2020-08-05 23:55:06,413 - pyswarms.single.global_best - INFO - Optimization finished | best cost: -62.53825691536227, best pos: [11834.20029555   110.12678213  1177.02843972]\n",
      "2020-08-05 23:55:06,418 - pyswarms.single.global_best - INFO - Optimize for 2 iters with {'c1': 0.5, 'c2': 0.3, 'w': 0.9}\n",
      "pyswarms.single.global_best: 100%|██████████|2/2, best_cost=-62.5\n",
      "2020-08-05 23:55:06,467 - pyswarms.single.global_best - INFO - Optimization finished | best cost: -62.521304688544774, best pos: [12942.9807489    136.04098491  1177.02429658]\n",
      "2020-08-05 23:55:06,472 - pyswarms.single.global_best - INFO - Optimize for 2 iters with {'c1': 0.5, 'c2': 0.3, 'w': 0.9}\n",
      "pyswarms.single.global_best: 100%|██████████|2/2, best_cost=-62.5\n",
      "2020-08-05 23:55:06,526 - pyswarms.single.global_best - INFO - Optimization finished | best cost: -62.504547560887, best pos: [14247.22001434   143.72732156  1178.92889228]\n",
      "2020-08-05 23:55:06,531 - pyswarms.single.global_best - INFO - Optimize for 2 iters with {'c1': 0.5, 'c2': 0.3, 'w': 0.9}\n",
      "pyswarms.single.global_best: 100%|██████████|2/2, best_cost=-62.5\n",
      "2020-08-05 23:55:06,580 - pyswarms.single.global_best - INFO - Optimization finished | best cost: -62.48797934192289, best pos: [11862.38930629   137.65894102  1177.05649516]\n",
      "2020-08-05 23:55:06,585 - pyswarms.single.global_best - INFO - Optimize for 2 iters with {'c1': 0.5, 'c2': 0.3, 'w': 0.9}\n",
      "pyswarms.single.global_best: 100%|██████████|2/2, best_cost=-62.5\n",
      "2020-08-05 23:55:06,635 - pyswarms.single.global_best - INFO - Optimization finished | best cost: -62.47159414645723, best pos: [10938.33519315   118.43681797  1179.24617708]\n",
      "2020-08-05 23:55:06,641 - pyswarms.single.global_best - INFO - Optimize for 2 iters with {'c1': 0.5, 'c2': 0.3, 'w': 0.9}\n",
      "pyswarms.single.global_best: 100%|██████████|2/2, best_cost=-62.5\n",
      "2020-08-05 23:55:06,688 - pyswarms.single.global_best - INFO - Optimization finished | best cost: -62.4553863742946, best pos: [14131.55461418   128.38439732  1174.14295069]\n",
      "2020-08-05 23:55:06,693 - pyswarms.single.global_best - INFO - Optimize for 2 iters with {'c1': 0.5, 'c2': 0.3, 'w': 0.9}\n",
      "pyswarms.single.global_best: 100%|██████████|2/2, best_cost=-62.4\n",
      "2020-08-05 23:55:06,741 - pyswarms.single.global_best - INFO - Optimization finished | best cost: -62.439350691649494, best pos: [10913.68002055   110.96066854  1177.61508988]\n",
      "2020-08-05 23:55:06,745 - pyswarms.single.global_best - INFO - Optimize for 2 iters with {'c1': 0.5, 'c2': 0.3, 'w': 0.9}\n",
      "pyswarms.single.global_best: 100%|██████████|2/2, best_cost=-62.4\n",
      "2020-08-05 23:55:06,801 - pyswarms.single.global_best - INFO - Optimization finished | best cost: -62.423482014071595, best pos: [16090.23188493   110.90126945  1178.69768777]\n",
      "2020-08-05 23:55:06,806 - pyswarms.single.global_best - INFO - Optimize for 2 iters with {'c1': 0.5, 'c2': 0.3, 'w': 0.9}\n",
      "pyswarms.single.global_best: 100%|██████████|2/2, best_cost=-62.4\n",
      "2020-08-05 23:55:06,857 - pyswarms.single.global_best - INFO - Optimization finished | best cost: -62.407775490738665, best pos: [11641.64731399   134.674195    1170.66680985]\n",
      "2020-08-05 23:55:06,862 - pyswarms.single.global_best - INFO - Optimize for 2 iters with {'c1': 0.5, 'c2': 0.3, 'w': 0.9}\n",
      "pyswarms.single.global_best: 100%|██████████|2/2, best_cost=-62.4\n",
      "2020-08-05 23:55:06,909 - pyswarms.single.global_best - INFO - Optimization finished | best cost: -62.39222648998647, best pos: [13498.04610283   106.64219742  1175.50646095]\n"
     ]
    }
   ],
   "source": [
    "from pyswarms.single.global_best import GlobalBestPSO\n",
    "\n",
    "# instatiate the optimizer\n",
    "x_max=np.array(x_max_list)\n",
    "x_min=np.array(x_min_list)\n",
    "bounds = (x_min, x_max)\n",
    "options = {'c1': 0.5, 'c2': 0.3, 'w': 0.9}\n",
    "\n",
    "Opt_ROP=[]\n",
    "Opt_para=[]\n",
    "del_h=[]\n",
    "y_i1=0\n",
    "Wf=1\n",
    "for _ in range(5340,5941,10):\n",
    "    y_i2=np.cbrt(((_*1.87*10**-10)/(1-y_i1))+(y_i1**3))\n",
    "    y_i1=y_i2\n",
    "    del_h.append(y_i2)\n",
    "    def testROP(x):\n",
    "        f = regressor.predict(x)\n",
    "        return -Wf*f\n",
    "    optimizer = GlobalBestPSO(n_particles=50, dimensions=3, options=options, bounds=bounds)\n",
    "    cost, pos = optimizer.optimize(testROP, 2)\n",
    "    Opt_ROP.append(cost)\n",
    "    Opt_para.append(pos)\n",
    "    Wf=1-y_i2"
   ]
  },
  {
   "cell_type": "code",
   "execution_count": 34,
   "metadata": {},
   "outputs": [],
   "source": [
    "neg_ROP=[i*-1 for i in Opt_ROP]"
   ]
  },
  {
   "cell_type": "code",
   "execution_count": 35,
   "metadata": {},
   "outputs": [
    {
     "data": {
      "text/plain": [
       "[<matplotlib.lines.Line2D at 0x20bb30eef28>]"
      ]
     },
     "execution_count": 35,
     "metadata": {},
     "output_type": "execute_result"
    },
    {
     "data": {
      "image/png": "[encoded data removed]",
      "text/plain": [
       "<Figure size 432x288 with 1 Axes>"
      ]
     },
     "metadata": {
      "needs_background": "light"
     },
     "output_type": "display_data"
    }
   ],
   "source": [
    "plt.plot(range(0,601,10), neg_ROP)"
   ]
  }
 ],
 "metadata": {
  "kernelspec": {
   "display_name": "Python 3",
   "language": "python",
   "name": "python3"
  },
  "language_info": {
   "codemirror_mode": {
    "name": "ipython",
    "version": 3
   },
   "file_extension": ".py",
   "mimetype": "text/x-python",
   "name": "python",
   "nbconvert_exporter": "python",
   "pygments_lexer": "ipython3",
   "version": "3.7.1"
  }
 },
 "nbformat": 4,
 "nbformat_minor": 2
}
